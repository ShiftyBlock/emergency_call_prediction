{
 "cells": [
  {
   "cell_type": "raw",
   "source": [],
   "metadata": {
    "collapsed": false
   },
   "id": "fe211728f4d673ac"
  }
 ],
 "metadata": {},
 "nbformat": 4,
 "nbformat_minor": 5
}
