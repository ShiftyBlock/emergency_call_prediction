{
 "cells": [
  {
   "cell_type": "markdown",
   "id": "f3b8ae06-3b78-4a0b-a165-7fba46c4dd51",
   "metadata": {},
   "source": [
    "## Differences?"
   ]
  },
  {
   "cell_type": "code",
   "execution_count": null,
   "id": "62d2f443-cfcd-4eb4-ae50-6544e778e0e6",
   "metadata": {},
   "outputs": [],
   "source": [
    "df = pd.DataFrame()\n",
    "df[\"hello\"] = [1,2,3,4,5]\n",
    "df[\"hello\"].rolling(window = 2, closed = \"left\").mean()"
   ]
  },
  {
   "cell_type": "code",
   "execution_count": null,
   "id": "67edc84c-a9b7-4039-9af3-bd82a19d3810",
   "metadata": {},
   "outputs": [],
   "source": [
    "data.head()"
   ]
  },
  {
   "cell_type": "code",
   "execution_count": null,
   "id": "c6a32ad7-1ba0-4227-8059-2bb764cd4487",
   "metadata": {},
   "outputs": [],
   "source": [
    "time_period = list(range(len(data)))\n",
    "train_lm = data.copy()\n",
    "train_lm['TimePeriod'] = time_period\n",
    "lm = smf.ols(formula='Q(\"Call Number\") ~  TimePeriod', data=train_lm).fit()\n",
    "train_lm[\"residue\"] = train_lm[\"Call Number\"] - lm.predict(train_lm)\n",
    "train_lm[\"residue\"]"
   ]
  },
  {
   "cell_type": "code",
   "execution_count": null,
   "id": "efb4e617-acc7-4d96-8916-8d71229cd1d0",
   "metadata": {},
   "outputs": [],
   "source": [
    "data_derivative = train_lm.copy()\n",
    "data_derivative[\"c1\"] = data_derivative[\"residue\"]\n",
    "data_derivative[\"c1s1\"] = data_derivative[\"c1\"].shift(1)\n",
    "data_derivative[\"c1s2\"] = data_derivative[\"c1\"].shift(2)\n",
    "data_derivative[\"c1s3\"] = data_derivative[\"c1\"].shift(3)\n",
    "data_derivative[\"c1s7\"] = data_derivative[\"c1\"].shift(7)\n",
    "data_derivative[\"c1r7\"] = data_derivative[\"c1s1\"].rolling(window=7, closed = \"left\").mean()\n",
    "data_derivative[\"c1r14\"] = data_derivative[\"c1s1\"].rolling(window=14, closed = \"left\").mean()\n",
    "data_derivative[\"c1r30\"] = data_derivative[\"c1s1\"].rolling(window=30, closed = \"left\").mean()\n",
    "#for d1\n",
    "data_derivative[\"d1\"] = data_derivative['Call Number'].shift(1) - data_derivative[\"Call Number\"]\n",
    "data_derivative[\"d1s1\"] = data_derivative[\"d1\"].shift(1)\n",
    "data_derivative[\"d1s2\"] = data_derivative[\"d1\"].shift(2)\n",
    "data_derivative[\"d1s3\"] = data_derivative[\"d1\"].shift(3)\n",
    "data_derivative[\"d1s7\"] = data_derivative[\"d1\"].shift(7)\n",
    "data_derivative[\"d1r7\"] = data_derivative[\"d1s1\"].rolling(window=7, closed = \"left\").mean()\n",
    "data_derivative[\"d1r14\"] = data_derivative[\"d1s1\"].rolling(window=14, closed = \"left\").mean()\n",
    "data_derivative[\"d1r30\"] = data_derivative[\"d1s1\"].rolling(window=30, closed = \"left\").mean()\n",
    "#for d2\n",
    "data_derivative[\"d2\"] = data_derivative[\"d1\"].shift(1)- data_derivative[\"d1\"]\n",
    "data_derivative[\"d2s1\"] = data_derivative[\"d2\"].shift(1)\n",
    "data_derivative[\"d2s2\"] = data_derivative[\"d2\"].shift(2)\n",
    "data_derivative[\"d2s3\"] = data_derivative[\"d2\"].shift(3)\n",
    "data_derivative[\"d2s7\"] = data_derivative[\"d2\"].shift(7)\n",
    "data_derivative[\"d2r7\"] = data_derivative[\"d2\"].rolling(window=7, closed = \"left\").mean()\n",
    "data_derivative[\"d2r14\"] = data_derivative[\"d2\"].rolling(window=14, closed = \"left\").mean()\n",
    "data_derivative[\"d2r30\"] = data_derivative[\"d2\"].rolling(window=30, closed = \"left\").mean()\n",
    "#for d3\n",
    "data_derivative[\"d3\"] = data_derivative[\"d2\"].shift(1)- data_derivative[\"d2\"]\n",
    "data_derivative[\"d3s1\"] = data_derivative[\"d3\"].shift(1)\n",
    "data_derivative[\"d3s2\"] = data_derivative[\"d3\"].shift(2)\n",
    "data_derivative[\"d3s3\"] = data_derivative[\"d3\"].shift(3)\n",
    "data_derivative[\"d3s7\"] = data_derivative[\"d3\"].shift(7)\n",
    "data_derivative[\"d3r7\"] = data_derivative[\"d3\"].rolling(window=7, closed = \"left\").mean()\n",
    "data_derivative[\"d3r14\"] = data_derivative[\"d3\"].rolling(window=14, closed = \"left\").mean()\n",
    "data_derivative[\"d3r30\"] = data_derivative[\"d3\"].rolling(window=30, closed = \"left\").mean()\n",
    "#for d4\n",
    "data_derivative[\"d4\"] = data_derivative[\"d3\"].shift(1)- data_derivative[\"d3\"]\n",
    "data_derivative[\"d4s1\"] = data_derivative[\"d4\"].shift(1)\n",
    "data_derivative[\"d4s2\"] = data_derivative[\"d4\"].shift(2)\n",
    "data_derivative[\"d4s3\"] = data_derivative[\"d4\"].shift(3)\n",
    "data_derivative[\"d4s7\"] = data_derivative[\"d4\"].shift(7)\n",
    "data_derivative[\"d4r7\"] = data_derivative[\"d4\"].rolling(window=7, closed = \"left\").mean()\n",
    "data_derivative[\"d4r14\"] = data_derivative[\"d4\"].rolling(window=14, closed = \"left\").mean()\n",
    "data_derivative[\"d4r30\"] = data_derivative[\"d4\"].rolling(window=30, closed = \"left\").mean()\n",
    "data_derviative = data_derivative.dropna()\n",
    "data_derivative['TimePeriod'] = list(range(len(data_derivative)))\n",
    "data_derivative.head()"
   ]
  },
  {
   "cell_type": "code",
   "execution_count": null,
   "id": "e970a131-d1f2-4d0a-a7c6-6b10b82013f5",
   "metadata": {},
   "outputs": [],
   "source": [
    "data_derivative[[\"d1\", \"d2\",\"d3\", \"d4\"]].head(10)"
   ]
  },
  {
   "cell_type": "code",
   "execution_count": null,
   "id": "0ec8a69d-9540-491e-b54a-47c2cb81ea5c",
   "metadata": {},
   "outputs": [],
   "source": [
    "from statsmodels.tsa.stattools import adfuller\n",
    "\n",
    "def check_stationarity(series):\n",
    "    # Copied from https://machinelearningmastery.com/time-series-data-stationary-python/\n",
    "\n",
    "    result = adfuller(series.values)\n",
    "\n",
    "    print('ADF Statistic: %f' % result[0])\n",
    "    print('p-value: %f' % result[1])\n",
    "    print('Critical Values:')\n",
    "    for key, value in result[4].items():\n",
    "        print('\\t%s: %.3f' % (key, value))\n",
    "\n",
    "    if (result[1] <= 0.05) & (result[4]['5%'] > result[0]):\n",
    "        print(\"\\u001b[32mStationary\\u001b[0m\")\n",
    "    else:\n",
    "        print(\"\\x1b[31mNon-stationary\\x1b[0m\")\n",
    "\n",
    "check_stationarity(data_derivative[\"d1\"].iloc[4:])"
   ]
  },
  {
   "cell_type": "code",
   "execution_count": null,
   "id": "61d5e5ea-371c-4ad7-a1f2-c2b5a7e55610",
   "metadata": {},
   "outputs": [],
   "source": [
    "from statsmodels.graphics.tsaplots import plot_acf\n",
    "from statsmodels.graphics.tsaplots import plot_pacf\n",
    "\n",
    "plot_acf(data_derivative['d2'].iloc[4:], alpha = 0.001, zero = False)\n",
    "plot_pacf(data_derivative['d2'].iloc[4:], alpha = 0.001, zero = False)\n",
    "\n",
    "plt.show()"
   ]
  },
  {
   "cell_type": "code",
   "execution_count": null,
   "id": "c001cee7-6edb-40ac-a29d-6a18de35417d",
   "metadata": {},
   "outputs": [],
   "source": [
    "x,y = data_derivative['TimePeriod'].to_numpy()[3000:3300], data_derivative['Call Number'].to_numpy()[3000:3300]\n",
    "plot_entire_series(x,y)"
   ]
  },
  {
   "cell_type": "code",
   "execution_count": null,
   "id": "175ce1ae-8c3a-4906-b35e-ca37f37d0c7d",
   "metadata": {},
   "outputs": [],
   "source": [
    "x,y = data_derivative['TimePeriod'].to_numpy()[3000:3300], data_derivative['d1'].to_numpy()[3000:3300]\n",
    "plot_entire_series(x,y)"
   ]
  },
  {
   "cell_type": "code",
   "execution_count": null,
   "id": "a4a68f4d-a28b-49b9-bb07-eb03183eba51",
   "metadata": {},
   "outputs": [],
   "source": [
    "x,y = data_derivative['TimePeriod'].to_numpy()[3000:3300], data_derivative['d2'].to_numpy()[3000:3300]\n",
    "#plot_entire_series(x,y)"
   ]
  },
  {
   "cell_type": "code",
   "execution_count": null,
   "id": "7a7426ab-cb0a-4796-abf3-810a9ff31169",
   "metadata": {},
   "outputs": [],
   "source": [
    "x,y = data_derivative['TimePeriod'].to_numpy()[3000:3300], data_derivative['d3'].to_numpy()[3000:3300]\n",
    "#plot_entire_series(x,y)"
   ]
  },
  {
   "cell_type": "code",
   "execution_count": null,
   "id": "e18acff3-4f0c-4e51-b392-3516abdb23ec",
   "metadata": {},
   "outputs": [],
   "source": [
    "train_d, test_d = data_derivative.iloc[:6600], data_derivative.iloc[6600:]\n",
    "dm0 = smf.ols(formula='c1 ~ (c1s1 + c1s2 + c1s3 + c1s7 + c1r7 + c1r30)', data=train_d).fit()\n",
    "dm0.summary()"
   ]
  },
  {
   "cell_type": "code",
   "execution_count": null,
   "id": "437d3b6c-0cc4-4020-90c1-0ba69ab77b45",
   "metadata": {},
   "outputs": [],
   "source": [
    "dm1 = smf.ols(formula='d1 ~ (d1s1 + d1s2 + d1s3 + d1s7 + d1r7 + d1r30)', data=train_d).fit()\n",
    "dm1.summary()\n",
    "#plot_entire_series(train_d[\"TimePeriod\"][200:300], train_d[\"d1\"][200:300], red=dm.predict(train_d)[200:300])"
   ]
  },
  {
   "cell_type": "code",
   "execution_count": null,
   "id": "a6fc9c8b-962f-4c0c-89cb-33ef48a2290e",
   "metadata": {},
   "outputs": [],
   "source": [
    "dm2 = smf.ols(formula='d2 ~ (d2s1 + d2s2 )', data=train_d).fit()\n",
    "#dm2.summary()"
   ]
  },
  {
   "cell_type": "code",
   "execution_count": null,
   "id": "c3e98577-b088-4aba-8dbf-30570b423765",
   "metadata": {},
   "outputs": [],
   "source": [
    "#plot_entire_series(train_d[\"TimePeriod\"][200:300], train_d[\"d2\"][200:300], red=dm.predict(train_d)[200:300])"
   ]
  },
  {
   "cell_type": "code",
   "execution_count": null,
   "id": "58451c74-8417-4c21-b74c-18be2ff85521",
   "metadata": {},
   "outputs": [],
   "source": [
    "dm3 = smf.ols(formula='d3 ~ (d3s1 + d3s2)', data=train_d).fit()\n",
    "#dm.summary()"
   ]
  },
  {
   "cell_type": "code",
   "execution_count": null,
   "id": "b6ad48a7-7488-46ad-b2d0-ffc09dceb0ad",
   "metadata": {},
   "outputs": [],
   "source": [
    "dm4 = smf.ols(formula='d4 ~ (d4s1 + d4s2 + d4s3)', data=train_d).fit()\n",
    "#dm.summary()\n",
    "dm4.predict(train_d).head(10)\n"
   ]
  },
  {
   "cell_type": "code",
   "execution_count": null,
   "id": "3ae1cd60-4964-482f-97d7-6feccd65f06c",
   "metadata": {},
   "outputs": [],
   "source": [
    " np.mean((train_d[\"d3\"] - dm3.predict(train_d))**2), np.mean((train_d[\"d3\"] - (train_d[\"d3\"].shift(1) - train_d[\"d4\"]    ))**2)"
   ]
  },
  {
   "cell_type": "code",
   "execution_count": null,
   "id": "62af5f4a-7457-471b-b26b-b62ebf76eceb",
   "metadata": {},
   "outputs": [],
   "source": [
    "np.mean((train_d[\"d2\"] - dm2.predict(train_d))**2), np.mean((train_d[\"d2\"] - (train_d[\"d2\"].shift(1) - train_d[\"d3\"]    ) )**2)"
   ]
  },
  {
   "cell_type": "code",
   "execution_count": null,
   "id": "a0a5118c-c504-4a23-8b6b-34cc50c28e2d",
   "metadata": {},
   "outputs": [],
   "source": [
    "np.mean((train_d[\"d1\"] - dm1.predict(train_d))**2), np.mean((train_d[\"d1\"] - (train_d[\"d1\"].shift(1) - dm2.predict(train_d)) )**2)"
   ]
  },
  {
   "cell_type": "code",
   "execution_count": null,
   "id": "91cbd794-54d1-4257-88be-60621c646310",
   "metadata": {},
   "outputs": [],
   "source": [
    "np.mean((train_d[\"c1\"] - dm0.predict(train_d))**2), np.mean((train_d[\"c1\"] - (train_d[\"c1\"].shift(1) - dm1.predict(train_d)  ))**2)"
   ]
  },
  {
   "cell_type": "code",
   "execution_count": null,
   "id": "b316af7d-b8f4-4e6b-842a-3170617fe089",
   "metadata": {},
   "outputs": [],
   "source": [
    "np.mean((train_d[\"c1\"] - np.mean(train_d[\"c1\"]))**2)"
   ]
  },
  {
   "cell_type": "code",
   "execution_count": null,
   "id": "9d8c0200-87bf-4ffe-9847-7f111529a516",
   "metadata": {},
   "outputs": [],
   "source": [
    "#plot_entire_series(train_d[\"TimePeriod\"][2000:3000], train_d[\"d4\"][2000:3000], red=dm.predict(train_d)[2000:3000])"
   ]
  },
  {
   "cell_type": "code",
   "execution_count": null,
   "id": "6b1644eb-2146-404e-8fde-a61545e58353",
   "metadata": {},
   "outputs": [],
   "source": [
    "dm."
   ]
  },
  {
   "cell_type": "code",
   "execution_count": null,
   "id": "bb2967a1-e031-4bee-8350-6e1c6156eed6",
   "metadata": {},
   "outputs": [],
   "source": [
    "np.mean((dm.predict(train_d) - train_d[\"d4\"])**2)\n"
   ]
  },
  {
   "cell_type": "code",
   "execution_count": null,
   "id": "afe3c18f-13f6-4a1e-8a2e-5c3dae20f1c3",
   "metadata": {},
   "outputs": [],
   "source": [
    "np.std(train_d[\"d2\"])"
   ]
  },
  {
   "cell_type": "code",
   "execution_count": null,
   "id": "7211a3af-18f7-4add-ad07-0306b73e5953",
   "metadata": {},
   "outputs": [],
   "source": [
    "# Import necessary libraries\n",
    "import pandas as pd\n",
    "from statsmodels.tsa.arima.model import ARIMA\n",
    "from sklearn.metrics import mean_squared_error\n",
    "from math import sqrt\n",
    "import matplotlib.pyplot as plt\n",
    "import numpy as np\n",
    "import statsmodels.formula.api as smf\n",
    "\n",
    "# Load your time series data\n",
    "# Assuming you have a DataFrame with a datetime index and a column named 'value'\n",
    "# Replace 'your_data.csv' with the actual file or data source\n",
    "data = pd.read_csv(\"allcounts.csv\")\n",
    "data_untrend = data.copy()"
   ]
  },
  {
   "cell_type": "code",
   "execution_count": null,
   "id": "03e69ac6-6982-4f28-83a6-94c0c6c470f2",
   "metadata": {},
   "outputs": [],
   "source": [
    "def plot_entire_series(x, y, **kwargs):\n",
    "    \n",
    "    plt.figure(figsize=(120, 25))\n",
    "    plt.plot(x, y, linewidth=1, color='black')\n",
    "    \n",
    "    for key, value in kwargs.items():\n",
    "        plt.plot(x, value, linewidth=1, color=key)\n",
    "        \n",
    "    plt.xlabel('Call Date', fontsize=16)\n",
    "    plt.ylabel('Call Number', fontsize=16)\n",
    "    plt.show()\n",
    "    \n",
    "    return None\n",
    "\n"
   ]
  },
  {
   "cell_type": "code",
   "execution_count": null,
   "id": "a13dbac5-191e-4c22-97c9-84dbbad72b4a",
   "metadata": {
    "is_executing": true
   },
   "outputs": [],
   "source": [
    "##list_of_dataframes = [group for _, group in data.groupby(\"Neighborhooods - Analysis Boundaries\")]\n",
    "##len(list_of_dataframes)\n",
    "data_untrend = data.copy()\n",
    "data_untrend['TimePeriod'] = list(range(len(data)))\n",
    "lm = smf.ols(formula='Q(\"Call Number\") ~  TimePeriod', data=data_untrend).fit()\n",
    "y = data_untrend['Call Number'].to_numpy()\n",
    "y_pred = lm.predict(data_untrend).to_numpy()\n",
    "data_untrend[\"Residuals\"] = y - y_pred\n",
    "np.mean(data_untrend[\"Residuals\"])"
   ]
  },
  {
   "cell_type": "code",
   "execution_count": null,
   "id": "26306c61-39b3-4915-a5ab-1490e1084504",
   "metadata": {},
   "outputs": [],
   "source": [
    "x,y = data_untrend['TimePeriod'].to_numpy(), data_untrend['Residuals'].to_numpy()\n",
    "plot_entire_series(x,y)"
   ]
  },
  {
   "cell_type": "code",
   "execution_count": null,
   "id": "f4cd1a12-9ad1-45e1-b30f-c1050b85dd0f",
   "metadata": {},
   "outputs": [],
   "source": [
    "ar = data_untrend.copy()\n",
    "ar[\"rollwmean\"] = ar['Residuals'].rolling(window=7).mean()\n",
    "ar[\"rolldwmean\"] = ar['Residuals'].rolling(window=14).mean()\n",
    "ar[\"rollmmean\"] = ar['Residuals'].rolling(window=30).mean()\n",
    "ar[\"rolldmmean\"] = ar['Residuals'].rolling(window=60).mean()\n",
    "ar[\"rollymean\"] = ar['Residuals'].rolling(window=365).mean()\n",
    "ar['yesterday'] = ar['Residuals'].shift(1)\n",
    "ar['yyesterday'] = ar['Residuals'].shift(2)\n",
    "ar['lastweek'] = ar['Residuals'].shift(7)\n",
    "ar['lastmonth'] = ar['Residuals'].shift(30)\n",
    "ar['lastyear'] = ar['Residuals'].shift(365)\n",
    "ar.head()"
   ]
  },
  {
   "cell_type": "code",
   "execution_count": null,
   "id": "9cc115d1-ee56-4676-8d85-8b308202f2d5",
   "metadata": {},
   "outputs": [],
   "source": [
    "train_ar, test_ar = ar.iloc[\n",
    "ar1 = smf.ols(formula='Residuals ~ rollwmean + rolldwmean + rollmmean + rolldmmean + rollymean + yesterday + yyesterday + lastweek + lastmonth + lastyear', data=ar).fit()"
   ]
  },
  {
   "cell_type": "code",
   "execution_count": null,
   "id": "2aebb7e2-361a-4b47-9781-cfbbb9b73e97",
   "metadata": {},
   "outputs": [],
   "source": [
    "def get_season(row):\n",
    "    month = row[\"Call Date\"].month\n",
    "    if 3 <= month <= 5:\n",
    "        return 'spring'\n",
    "    elif 6 <= month <= 8:\n",
    "        return 'summer'\n",
    "    elif 9 <= month <= 11:\n",
    "        return 'autumn'\n",
    "    else:\n",
    "        return 'winter'\n",
    "\n",
    "def is_weekend(row):\n",
    "    day = row[\"Call Date\"].dayofweek\n",
    "    return day > 4\n",
    "\n",
    "def runner(df):\n",
    "    call_counts = df.copy()\n",
    "    call_counts[\"Call Date\"] = pd.to_datetime(call_counts[\"Call Date\"])\n",
    "    call_counts[\"Season\"] = call_counts.apply(get_season, axis = 1)\n",
    "    call_counts[\"Weekend\"] = call_counts.apply(is_weekend, axis = 1)\n",
    "    return call_counts\n",
    "    #df = pd.merge(df, call_counts, on='Call Date', how='left')\n",
    "    #return df\n",
    "\n",
    "mydata = runner(data)\n",
    "mydata"
   ]
  },
  {
   "cell_type": "code",
   "execution_count": null,
   "id": "75abccdb-f1bf-4ad4-bd85-cbfe3784b4c0",
   "metadata": {},
   "outputs": [],
   "source": []
  },
  {
   "cell_type": "code",
   "execution_count": null,
   "id": "402d3c69-7031-43bf-a7ce-90a537e2320c",
   "metadata": {},
   "outputs": [],
   "source": [
    "#dtrain, dtest = dummyz[dummyz[\"Call Date\"].dt.month<=8], dummyz[dummyz[\"Call Date\"].dt.month>=9]\n",
    "#print(dtrain.shape, dtest.shape)"
   ]
  },
  {
   "cell_type": "code",
   "execution_count": null,
   "id": "8b4ae5fa-703c-4f4b-bf0d-ccaaa87e319d",
   "metadata": {},
   "outputs": [],
   "source": [
    "train, test = mydata.iloc[:6600], mydata.iloc[6600:]"
   ]
  },
  {
   "cell_type": "code",
   "execution_count": null,
   "id": "f9d5864a-7f4c-4542-b23f-a48fe650fa7b",
   "metadata": {},
   "outputs": [],
   "source": [
    "def plot_entire_series(x, y, **kwargs):\n",
    "    \n",
    "    plt.figure(figsize=(120, 25))\n",
    "    plt.plot(x, y, linewidth=1, color='black')\n",
    "    \n",
    "    for key, value in kwargs.items():\n",
    "        plt.plot(x, value, linewidth=1, color=key)\n",
    "        \n",
    "    plt.xlabel('Call Date', fontsize=16)\n",
    "    plt.ylabel('Call Number', fontsize=16)\n",
    "    plt.show()\n",
    "    \n",
    "    return None\n",
    "\n",
    "x = train['Call Date'].to_numpy()\n",
    "y = train['Call Number'].to_numpy()\n",
    "\n",
    "plot_entire_series(x, y)"
   ]
  },
  {
   "cell_type": "markdown",
   "id": "35e3edde-945c-430c-8a05-a19de271fe5a",
   "metadata": {},
   "source": [
    "### Linear Trend"
   ]
  },
  {
   "cell_type": "code",
   "execution_count": null,
   "id": "27a1c011-5a23-454c-be4e-9594e3debdda",
   "metadata": {},
   "outputs": [],
   "source": [
    "time_period = list(range(len(data)))\n",
    "train_lm = data.copy()\n",
    "train_lm['TimePeriod'] = time_period\n",
    "train_lm.tail()"
   ]
  },
  {
   "cell_type": "code",
   "execution_count": null,
   "id": "aaf46924-4ab7-4458-a6d2-affa1e2a2459",
   "metadata": {},
   "outputs": [],
   "source": [
    "import statsmodels.formula.api as smf\n",
    "\n",
    "lm = smf.ols(formula='Q(\"Call Number\") ~ Season+ Weekend+  TimePeriod', data=train_lm).fit()\n",
    "\n",
    "print(lm.summary())"
   ]
  },
  {
   "cell_type": "code",
   "execution_count": null,
   "id": "2725069f-1779-45d0-acc8-42a9097aab61",
   "metadata": {},
   "outputs": [],
   "source": [
    "x = train['Call Date'].to_numpy()\n",
    "y = train['Call Number'].to_numpy()\n",
    "y_pred = lm.predict(train_lm).to_numpy()\n",
    "\n",
    "plot_entire_series(x, y, red=y_pred)"
   ]
  },
  {
   "cell_type": "markdown",
   "id": "bb5817e8-e08f-4008-b245-e2282ee063aa",
   "metadata": {},
   "source": [
    "## Random Walk Model"
   ]
  },
  {
   "cell_type": "code",
   "execution_count": null,
   "id": "a0069027-39d7-4aa2-afbb-d9f5d8fdeb12",
   "metadata": {},
   "outputs": [],
   "source": [
    "train_rw = train.copy()\n",
    "train_rw['Call Number Yesterday'] = train_rw['Call Number'].shift(1)\n",
    "train_rw.head()"
   ]
  },
  {
   "cell_type": "code",
   "execution_count": null,
   "id": "a34eddaa-0fc4-44ea-956c-f270ad0fa167",
   "metadata": {},
   "outputs": [],
   "source": [
    "x = train_rw['Call Date'].to_numpy()\n",
    "y = train_rw['Call Number'].to_numpy()\n",
    "y_pred = train_rw['Call Number Yesterday'].to_numpy()\n",
    "\n",
    "plot_entire_series(x, y, red=y_pred)"
   ]
  },
  {
   "cell_type": "code",
   "execution_count": null,
   "id": "7ed3a379-bed3-4d66-8b92-12a0971be4db",
   "metadata": {},
   "outputs": [],
   "source": [
    "def plot_last_fifty(x, y, **kwargs):\n",
    "    \n",
    "    plt.figure(figsize=(16, 4))\n",
    "    plt.scatter(x[-50:], y[-50:], linewidth=3, color='black')\n",
    "    plt.plot(x[-50:], y[-50:], linewidth=3, color='black')\n",
    "    \n",
    "    for key, value in kwargs.items():\n",
    "        plt.plot(x[-50:], value[-50:], linewidth=3, color=key)\n",
    "        \n",
    "    plt.xlabel('Call Date', fontsize=16)\n",
    "    plt.ylabel('call_counts', fontsize=16)\n",
    "    plt.show()\n",
    "    \n",
    "    return None"
   ]
  },
  {
   "cell_type": "code",
   "execution_count": null,
   "id": "02b3e268-91bd-4e79-8c02-4ed96dcf63e1",
   "metadata": {},
   "outputs": [],
   "source": [
    "plot_last_fifty(x, y, red=y_pred)"
   ]
  },
  {
   "cell_type": "code",
   "execution_count": null,
   "id": "67f7a632-6687-46a6-a1cc-f912ffdb0ff9",
   "metadata": {},
   "outputs": [],
   "source": [
    "#print((abs(train_rw['call_counts'] - train_rw['call_counts_yesterday']) >= 20).value_counts())"
   ]
  },
  {
   "cell_type": "code",
   "execution_count": null,
   "id": "992119cf-da69-4417-a99c-0e856c5c218c",
   "metadata": {},
   "outputs": [],
   "source": [
    "from sklearn.metrics import r2_score\n",
    "\n",
    "# Here we slice the series using [1:] in order to discard the first entry which corresponds to a NaN.\n",
    "print('Training R2:', round(r2_score(train_rw['Call Number'][1:], train_rw['Call Number Yesterday'][1:]), 5))"
   ]
  },
  {
   "cell_type": "markdown",
   "id": "b7fbfc38-f460-437d-bd5d-cbbba29d379a",
   "metadata": {},
   "source": [
    "## Simple Autoregressive Model"
   ]
  },
  {
   "cell_type": "code",
   "execution_count": null,
   "id": "dd43eb5c-d6d4-4c7f-8af0-ff1ba2017697",
   "metadata": {},
   "outputs": [],
   "source": [
    "# when shall we use AR(1) model? (Go to hand-written notes)\n",
    "ar = mydata.copy()\n",
    "ar[\"rollwmean\"] = ar['Call Number'].rolling(window=7).mean()\n",
    "ar[\"rolldwmean\"] = ar['Call Number'].rolling(window=14).mean()\n",
    "ar[\"rollmmean\"] = ar['Call Number'].rolling(window=30).mean()\n",
    "ar[\"rolldmmean\"] = ar['Call Number'].rolling(window=60).mean()\n",
    "ar[\"rollymean\"] = ar['Call Number'].rolling(window=365).mean()\n",
    "ar['Call Number Yesterday'] = ar['Call Number'].shift(7)\n",
    "ar['Call Number YesterYesterday'] = ar['Call Number'].shift(7)\n",
    "ar['Call Number Last Week'] = ar['Call Number'].shift(7)\n",
    "ar['Call Number Last Month'] = ar['Call Number'].shift(30)\n",
    "ar['Call Number Last Year'] = ar['Call Number'].shift(365)\n",
    "\n",
    "train_ar, test_ar = ar.iloc[1000:3600], ar.iloc[3600:4000]\n",
    "\n",
    "ar1 = smf.ols(formula='Q(\"Call Number\") ~ Q(\"Call Number Yesterday\")  ', data=train_ar).fit()\n",
    "print(ar1.summary())"
   ]
  },
  {
   "cell_type": "code",
   "execution_count": null,
   "id": "d0451d4b-2423-4e1c-971e-923614794438",
   "metadata": {},
   "outputs": [],
   "source": [
    "x = test_ar['Call Date'].to_numpy()\n",
    "y = test_ar['Call Number'].to_numpy()\n",
    "y_pred = ar1.predict(test_ar.dropna()).to_numpy()\n",
    "\n",
    "RSS = np.sum( (y_pred - y) **2)\n",
    "SSE = np.sum((y - np.mean(train_ar[\"Call Number\"]))**2)\n",
    "1 - RSS/SSE"
   ]
  },
  {
   "cell_type": "code",
   "execution_count": null,
   "id": "9957746b-6e5a-462b-978d-c914a5976dfa",
   "metadata": {},
   "outputs": [],
   "source": [
    "plot_entire_series(x, y, red=y_pred)\n",
    "plot_last_fifty(x, y, red=y_pred)"
   ]
  },
  {
   "cell_type": "markdown",
   "id": "fa2145c8-75c8-4911-a3b1-c3e164586abf",
   "metadata": {},
   "source": [
    "## Higher Order ARIMA"
   ]
  },
  {
   "cell_type": "code",
   "execution_count": null,
   "id": "49730725-788a-46d2-87d4-1b68d9360678",
   "metadata": {},
   "outputs": [],
   "source": [
    "train_ar.head()"
   ]
  },
  {
   "cell_type": "code",
   "execution_count": null,
   "id": "3d1a0a50-9313-410a-a729-89fdc6f047cc",
   "metadata": {},
   "outputs": [],
   "source": [
    "ar2 = smf.ols(formula='Q(\"Call Number\") ~ Q(\"Call Number Yesterday\")  * Q(\"Call Number YesterYesterday\") + Weekend *( rolldwmean +rollwmean  + rolldmmean   + Q(\"Call Number Last Year\"))', data=train_ar).fit()\n",
    "print(ar2.summary())"
   ]
  },
  {
   "cell_type": "code",
   "execution_count": null,
   "id": "ee844832-71c7-405e-929d-586354cc4f5c",
   "metadata": {},
   "outputs": [],
   "source": [
    "x = test_ar['Call Date'].to_numpy()\n",
    "y =test_ar['Call Number'].to_numpy()\n",
    "y_pred = ar2.predict(test_ar).to_numpy()\n",
    "\n",
    "RSS = np.sum( (y_pred - y) **2)\n",
    "SSE = np.sum((y - np.mean(train_ar[\"Call Number\"]))**2)\n",
    "1 - RSS/SSE"
   ]
  },
  {
   "cell_type": "code",
   "execution_count": null,
   "id": "a897f8d7-c62d-4663-bec8-0a62544344e2",
   "metadata": {},
   "outputs": [],
   "source": [
    "plot_entire_series(x, y, red=y_pred)\n",
    "plot_last_fifty(x, y, red=y_pred)"
   ]
  },
  {
   "cell_type": "markdown",
   "id": "a2b99d9d-7294-49fb-bdab-0de089194010",
   "metadata": {},
   "source": [
    "Hopefully?"
   ]
  },
  {
   "cell_type": "code",
   "execution_count": null,
   "id": "94be6d79-1fe4-48e0-a31d-7d827da52cff",
   "metadata": {},
   "outputs": [],
   "source": [
    "import pandas as pd\n",
    "import matplotlib.pyplot as plt\n",
    "from statsmodels.tsa.statespace.sarimax import SARIMAX\n",
    "from statsmodels.graphics.tsaplots import plot_acf, plot_pacf\n",
    "\n",
    "# Assuming your DataFrame is named 'df'\n",
    "# Make sure your 'Call Date' is set as the index\n",
    "df1 = train.copy()\n",
    "df = df1.iloc[365 * 0:365 * 4]\n",
    "df.set_index('Call Date', inplace=True)\n",
    "df.index.freq = \"D\"\n",
    "# Plot the ACF and PACF to determine the order of differencing and SARIMA parameters\n",
    "plot_acf(df['Call Number'])\n",
    "plot_pacf(df['Call Number'])\n",
    "plt.show()\n",
    "\n",
    "# Determine the seasonal order (P, D, Q, s)\n",
    "seasonal_order = (0,1,1 ,4)  # Replace P, D, Q, s with appropriate values\n",
    "\n",
    "# Fit SARIMA model\n",
    "order = (2,1,1)  # Replace p, d, q with the appropriate values based on the ACF and PACF plots\n",
    "model = ARIMA(df['Call Number'], order = order, seasonal_order = seasonal_order)\n",
    "results = model.fit()\n",
    "\n",
    "\n"
   ]
  },
  {
   "cell_type": "code",
   "execution_count": null,
   "id": "7f386c02-d29d-4967-a4ef-b467335f0345",
   "metadata": {},
   "outputs": [],
   "source": [
    "print(results.summary())\n",
    "\n",
    "\n"
   ]
  },
  {
   "cell_type": "code",
   "execution_count": null,
   "id": "e86b7578-5b2c-4ff9-9377-516cc3f34993",
   "metadata": {},
   "outputs": [],
   "source": [
    "'''\n",
    "# Plot the actual vs. predicted values\n",
    "plt.plot(df.index, df['Call Number'], label='Actual')\n",
    "plt.plot(forecast_values.index, forecast_values, label='Predicted', color='red')\n",
    "#plt.fill_between(confidence_intervals.index, confidence_intervals.iloc[:, 0], confidence_intervals.iloc[:, 1], color='pink', alpha=0.3, label='Confidence Intervals')\n",
    "plt.legend()\n",
    "plt.show()\n",
    "'''\n",
    "results.forecast(10)"
   ]
  },
  {
   "cell_type": "code",
   "execution_count": null,
   "id": "46078b26-d331-4d12-b293-4f4ed43c2628",
   "metadata": {},
   "outputs": [],
   "source": []
  },
  {
   "cell_type": "markdown",
   "id": "773b7cf6-b425-405d-9ec0-0db565bb1e76",
   "metadata": {},
   "source": [
    "## Trying Prophet?"
   ]
  },
  {
   "cell_type": "code",
   "execution_count": null,
   "id": "a60ff81d-cf89-457b-a635-9c0215945211",
   "metadata": {},
   "outputs": [],
   "source": [
    "!python -m pip install prophet\n"
   ]
  },
  {
   "cell_type": "code",
   "execution_count": null,
   "id": "ed6ea8b2-93bc-4a42-ae6f-2726d6ababb7",
   "metadata": {},
   "outputs": [],
   "source": [
    "import pandas as pd\n",
    "from prophet import Prophet\n",
    "\n"
   ]
  },
  {
   "cell_type": "code",
   "execution_count": null,
   "id": "25819df8-01b9-4863-bb67-48265259acb8",
   "metadata": {},
   "outputs": [],
   "source": [
    "m = Prophet()\n",
    "p_data = train_ar[[\"Call Date\", \"Call Number\"]]\n",
    "p_data = p_data.rename(columns = {\"Call Date\": \"ds\", \"Call Number\": \"y\"})\n",
    "m.fit(p_data)"
   ]
  },
  {
   "cell_type": "code",
   "execution_count": null,
   "id": "2c567579-83e6-46de-8918-845b662a91f9",
   "metadata": {},
   "outputs": [],
   "source": [
    "future = m.make_future_dataframe(periods=10000)\n",
    "future.tail()"
   ]
  },
  {
   "cell_type": "code",
   "execution_count": null,
   "id": "34acf9ba-b8fe-45e9-a6e3-7bcd31f2af7f",
   "metadata": {},
   "outputs": [],
   "source": [
    "forecast = m.predict(future)\n",
    "forecast[['ds', 'yhat', 'yhat_lower', 'yhat_upper']].tail()\n",
    "\n"
   ]
  },
  {
   "cell_type": "code",
   "execution_count": null,
   "id": "07b246f4-ad0d-4268-8f4d-bd10971a988d",
   "metadata": {},
   "outputs": [],
   "source": [
    "fig1 = m.plot(forecast)\n"
   ]
  },
  {
   "cell_type": "code",
   "execution_count": null,
   "id": "a3ff771f-0fc4-4c32-a53b-fbe611a68dce",
   "metadata": {},
   "outputs": [],
   "source": [
    "fig2 = m.plot_components(forecast)\n"
   ]
  },
  {
   "cell_type": "markdown",
   "id": "10f7ffd6-52d0-4f67-ad68-636b671d04ce",
   "metadata": {},
   "source": [
    "## Auto Arima"
   ]
  },
  {
   "cell_type": "code",
   "execution_count": null,
   "id": "cba9120d-652e-4cef-acad-3f3768351907",
   "metadata": {},
   "outputs": [],
   "source": [
    "import pmdarima as pm"
   ]
  },
  {
   "cell_type": "code",
   "execution_count": null,
   "id": "bcffeee4-8516-489d-96fb-f1156da310cf",
   "metadata": {},
   "outputs": [],
   "source": [
    "pm.auto_arima(train[\"Call Number\"])"
   ]
  },
  {
   "cell_type": "code",
   "execution_count": null,
   "id": "a4af60ad-7e93-4148-87a7-1a99fa5dbc6a",
   "metadata": {},
   "outputs": [],
   "source": []
  }
 ],
 "metadata": {
  "kernelspec": {
   "display_name": "Python 3 (ipykernel)",
   "language": "python",
   "name": "python3"
  },
  "language_info": {
   "codemirror_mode": {
    "name": "ipython",
    "version": 3
   },
   "file_extension": ".py",
   "mimetype": "text/x-python",
   "name": "python",
   "nbconvert_exporter": "python",
   "pygments_lexer": "ipython3",
   "version": "3.9.6"
  }
 },
 "nbformat": 4,
 "nbformat_minor": 5
}
